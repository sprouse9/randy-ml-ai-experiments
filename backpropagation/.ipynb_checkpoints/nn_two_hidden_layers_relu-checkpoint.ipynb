{
 "cells": [
  {
   "cell_type": "markdown",
   "id": "6dc1e3ba",
   "metadata": {},
   "source": [
    "$$\n",
    "\\text{Input Data } x\n",
    "\\quad \\xrightarrow{\\text{Forward Pass}} \\quad\n",
    "\\text{Predicted Output } \\hat{y}\n",
    "\\quad \\xrightarrow{\\text{Compute Loss}} \\quad\n",
    "\\text{Loss}\n",
    "\\quad \\xrightarrow{\\text{Backward Pass}} \\quad\n",
    "\\text{Gradients}\n",
    "\\quad \\xrightarrow{\\text{Optimizer Step}} \\quad\n",
    "\\text{Updated Parameters}\n",
    "$$\n"
   ]
  },
  {
   "cell_type": "code",
   "execution_count": 2,
   "id": "e266f4be-577a-44be-b0af-b726bc7b6dee",
   "metadata": {},
   "outputs": [],
   "source": [
    "import numpy as np\n",
    "import torch\n",
    "import torch.nn as nn\n",
    "import torch.optim as optim"
   ]
  },
  {
   "cell_type": "markdown",
   "id": "b85112bb-f979-4344-ac2d-31d5c634a6fe",
   "metadata": {},
   "source": [
    "### Not necessary to start with a `np` array\n",
    "\n",
    "Real-world situations may start with `np`,  \n",
    "and then we convert to tensors.\n"
   ]
  },
  {
   "cell_type": "code",
   "execution_count": 3,
   "id": "0b942039-2496-4e78-a157-905030c21df4",
   "metadata": {},
   "outputs": [],
   "source": [
    "# Prepare linear training data\n",
    "x_np = np.array([0.1, 0.3, 0.5, 0.7, 0.9])\n",
    "y_np = np.array([0.2, 0.4, 0.5, 0.8, 1.0])"
   ]
  },
  {
   "cell_type": "markdown",
   "id": "300401a6-8c0a-4882-b8dc-27ef1bcdaf33",
   "metadata": {},
   "source": [
    "Then convert to PyTorch tensors like this:"
   ]
  },
  {
   "cell_type": "code",
   "execution_count": 4,
   "id": "ae6f8532-f3dc-49bd-aa29-65beeab01be2",
   "metadata": {},
   "outputs": [],
   "source": [
    "x_data = torch.from_numpy(x_np).float().unsqueeze(1)  # shape: (5, 1)\n",
    "y_data = torch.from_numpy(y_np).float().unsqueeze(1)  # shape: (5, 1)\n"
   ]
  },
  {
   "cell_type": "code",
   "execution_count": 5,
   "id": "b8ddd238-e834-43fa-9fbe-f06a6693e4d0",
   "metadata": {},
   "outputs": [
    {
     "data": {
      "text/plain": [
       "tensor([[0.1000],\n",
       "        [0.3000],\n",
       "        [0.5000],\n",
       "        [0.7000],\n",
       "        [0.9000]])"
      ]
     },
     "execution_count": 5,
     "metadata": {},
     "output_type": "execute_result"
    }
   ],
   "source": [
    "x_data"
   ]
  },
  {
   "cell_type": "code",
   "execution_count": 6,
   "id": "9ee32ed3",
   "metadata": {},
   "outputs": [
    {
     "data": {
      "text/plain": [
       "tensor([[0.2000],\n",
       "        [0.4000],\n",
       "        [0.5000],\n",
       "        [0.8000],\n",
       "        [1.0000]])"
      ]
     },
     "execution_count": 6,
     "metadata": {},
     "output_type": "execute_result"
    }
   ],
   "source": [
    "y_data"
   ]
  },
  {
   "cell_type": "markdown",
   "id": "2ed64eed",
   "metadata": {},
   "source": [
    "We've graduated from hand-calculating gradients to using tensors and PyTorch layers — letting the library autograd system handle all the heavy math for us.  \n",
    "\n",
    "Now we set up the neural network's data structures.  \n",
    "Nothing has been trained yet.  \n",
    "No numbers have been adjusted.  \n",
    "No learning has happened.  "
   ]
  },
  {
   "cell_type": "code",
   "execution_count": 7,
   "id": "4cf82a59-46dd-49fa-93ea-25b492a540d4",
   "metadata": {},
   "outputs": [],
   "source": [
    "# Define network: 2 hidden layers with ReLU activations\n",
    "model = nn.Sequential(\n",
    "    nn.Linear(1, 4),   # Input → Hidden Layer 1\n",
    "    nn.ReLU(),\n",
    "    nn.Linear(4, 4),   # Hidden Layer 1 → Hidden Layer 2\n",
    "    nn.ReLU(),\n",
    "    nn.Linear(4, 1)    # Hidden Layer 2 → Output\n",
    ")"
   ]
  },
  {
   "cell_type": "markdown",
   "id": "bef8d60a-9746-4e00-bae5-8d63079bd277",
   "metadata": {},
   "source": [
    "\n",
    "Let's display the `model` object and verify.  \n",
    "There's also the `help(model)` that will  \n",
    "Help on Sequential in module `torch.nn.modules.container` object"
   ]
  },
  {
   "cell_type": "code",
   "execution_count": 8,
   "id": "0735a0d9-b93d-4ae0-a5d0-a0f80d692f64",
   "metadata": {},
   "outputs": [
    {
     "data": {
      "text/plain": [
       "Sequential(\n",
       "  (0): Linear(in_features=1, out_features=4, bias=True)\n",
       "  (1): ReLU()\n",
       "  (2): Linear(in_features=4, out_features=4, bias=True)\n",
       "  (3): ReLU()\n",
       "  (4): Linear(in_features=4, out_features=1, bias=True)\n",
       ")"
      ]
     },
     "execution_count": 8,
     "metadata": {},
     "output_type": "execute_result"
    }
   ],
   "source": [
    "model"
   ]
  },
  {
   "cell_type": "code",
   "execution_count": 9,
   "id": "bdb5e16e-f786-4268-87bb-48fb5d4d8aaf",
   "metadata": {},
   "outputs": [],
   "source": [
    "# 3. Loss and optimizer\n",
    "\n",
    "# This sets the loss function.\n",
    "# MSE in this case which is used for regression problems where the goal is to \n",
    "# predict real numbers, not categories. \n",
    "criterion = nn.MSELoss()\n",
    "\n",
    "# The optimizer will update the model's weights based on the gradients calculated\n",
    "# during backpropagation.\n",
    "# model.parameters() tells the optimizer fuction which weights and biases \n",
    "# it is allowed to update.\n",
    "optimizer = optim.SGD(model.parameters(), lr=0.01)\n",
    "#optimizer = optim.Adam(model.parameters(), lr=0.01)"
   ]
  },
  {
   "cell_type": "code",
   "execution_count": null,
   "id": "8335c379-3b04-410c-aa0f-7c3ce96d65d5",
   "metadata": {},
   "outputs": [
    {
     "data": {
      "text/plain": [
       "MSELoss()"
      ]
     },
     "execution_count": 59,
     "metadata": {},
     "output_type": "execute_result"
    }
   ],
   "source": [
    "criterion"
   ]
  },
  {
   "cell_type": "code",
   "execution_count": 10,
   "id": "9bfda244-a7b0-402d-88d2-b97b6b9b0663",
   "metadata": {},
   "outputs": [
    {
     "data": {
      "text/plain": [
       "SGD (\n",
       "Parameter Group 0\n",
       "    dampening: 0\n",
       "    differentiable: False\n",
       "    foreach: None\n",
       "    fused: None\n",
       "    lr: 0.01\n",
       "    maximize: False\n",
       "    momentum: 0\n",
       "    nesterov: False\n",
       "    weight_decay: 0\n",
       ")"
      ]
     },
     "execution_count": 10,
     "metadata": {},
     "output_type": "execute_result"
    }
   ],
   "source": [
    "optimizer"
   ]
  },
  {
   "cell_type": "code",
   "execution_count": null,
   "id": "07c289fb-7211-4dea-b5fd-7c74fb606fa8",
   "metadata": {},
   "outputs": [
    {
     "name": "stdout",
     "output_type": "stream",
     "text": [
      "Epoch  20: Loss = 0.478842\n",
      "Epoch  40: Loss = 0.253017\n",
      "Epoch  60: Loss = 0.155254\n",
      "Epoch  80: Loss = 0.113326\n",
      "Epoch 100: Loss = 0.095431\n",
      "Epoch 120: Loss = 0.087640\n",
      "Epoch 140: Loss = 0.084010\n",
      "Epoch 160: Loss = 0.082060\n",
      "Epoch 180: Loss = 0.080943\n",
      "Epoch 200: Loss = 0.080297\n",
      "Epoch 220: Loss = 0.079764\n",
      "Epoch 240: Loss = 0.079256\n",
      "Epoch 260: Loss = 0.078746\n",
      "Epoch 280: Loss = 0.078296\n",
      "Epoch 300: Loss = 0.077989\n"
     ]
    }
   ],
   "source": [
    "# 4. Training loop\n",
    "epochs = 300\n",
    "for epoch in range(epochs):\n",
    "    y_pred = model(x_data)              # Forward pass. Get predicted outputs y_pred\n",
    "    loss = criterion(y_pred, y_data)    # Compute loss with MSELoss() in this case\n",
    "\n",
    "    # Zero out old gradients previously stored.\n",
    "    # Important! Otherwise, gradients accumulate by default in PyTorch.\n",
    "    optimizer.zero_grad()\n",
    "\n",
    "    # Backward pass (autograd). Perform backpropagation.\n",
    "    # PyTorch automatically computes all the gradients of the loss w.r.t. (with respect to) \n",
    "    # each parameter (weights, biases) using chain rule. We previously computed the gradients \"by hand\".\n",
    "    # You don't have to manually do derivatives anymore — PyTorch's autograd system handles it.\n",
    "    # This populates the .grad attributes of our model parameters.\n",
    "    loss.backward()\n",
    "\n",
    "\n",
    "    # Update parameters\n",
    "    # take a step in the direction that reduces the loss.\n",
    "    # Optimizer looks at each parameter's .grad and adjusts the weights.\n",
    "    # Size of the step is controlled by the learning rate lr.\n",
    "    # This is what actually changes the model to make it better!\n",
    "    optimizer.step()\n",
    "\n",
    "    if (epoch + 1) % 20 == 0:\n",
    "        print(f\"Epoch {epoch+1:3d}: Loss = {loss.item():.6f}\")"
   ]
  },
  {
   "cell_type": "code",
   "execution_count": null,
   "id": "6d35e444-9e34-42fa-b226-1e075adead0d",
   "metadata": {},
   "outputs": [
    {
     "name": "stdout",
     "output_type": "stream",
     "text": [
      "\n",
      "=== Final Predictions ===\n",
      "x=0.1 → Predicted: 0.4195, Target: 0.2000, Error: 0.2195\n",
      "x=0.3 → Predicted: 0.4553, Target: 0.4000, Error: 0.0553\n",
      "x=0.5 → Predicted: 0.5821, Target: 0.5000, Error: 0.0821\n",
      "x=0.7 → Predicted: 0.7088, Target: 0.8000, Error: -0.0912\n",
      "x=0.9 → Predicted: 0.8356, Target: 1.0000, Error: -0.1644\n"
     ]
    }
   ],
   "source": [
    "# 5. Final predictions\n",
    "final_preds = model(x_data).detach()  # Detach to stop tracking gradients\n",
    "\n",
    "print(\"\\n=== Final Predictions ===\")\n",
    "for x, pred, target in zip(x_data, final_preds, y_data):\n",
    "    print(f\"x={x.item():.1f} → Predicted: {pred.item():.4f}, Target: {target.item():.4f}, Error: {pred.item() - target.item():.4f}\")"
   ]
  },
  {
   "cell_type": "code",
   "execution_count": null,
   "id": "859c67db-2810-4f72-8988-9fa7e3f89709",
   "metadata": {},
   "outputs": [],
   "source": []
  },
  {
   "cell_type": "code",
   "execution_count": null,
   "id": "e96b35cc-ac8e-4e2d-ac74-2a4e73bb9921",
   "metadata": {},
   "outputs": [
    {
     "data": {
      "image/png": "[encoded data removed]",
      "text/plain": [
       "<Figure size 800x500 with 1 Axes>"
      ]
     },
     "metadata": {},
     "output_type": "display_data"
    }
   ],
   "source": [
    "import matplotlib.pyplot as plt\n",
    "import numpy as np\n",
    "\n",
    "# 1. Create a smooth range of x values\n",
    "x_range_np = np.linspace(0, 1, 200)              # From 0 to 1 (fine-grained)\n",
    "x_range = torch.from_numpy(x_range_np).float().unsqueeze(1)  # (200, 1)\n",
    "\n",
    "# 2. Predict using the trained model (detach to stop autograd)\n",
    "y_range = model(x_range).detach().numpy()\n",
    "\n",
    "# 3. Plot predictions vs original data\n",
    "plt.figure(figsize=(8, 5))\n",
    "plt.plot(x_range_np, y_range, label='Model Output', color='blue')\n",
    "plt.scatter(x_data.numpy(), y_data.numpy(), color='red', label='Training Data', zorder=5)\n",
    "plt.title(\"Model Fit (2 Hidden Layers + ReLU)\")\n",
    "plt.xlabel(\"x\")\n",
    "plt.ylabel(\"Predicted y\")\n",
    "plt.legend()\n",
    "plt.grid(True)\n",
    "plt.tight_layout()\n",
    "plt.show()\n"
   ]
  },
  {
   "cell_type": "code",
   "execution_count": null,
   "id": "2ab81950-734e-46ff-ab22-b4e3168bc73e",
   "metadata": {},
   "outputs": [
    {
     "data": {
      "image/png": "[encoded data removed]",
      "text/plain": [
       "<Figure size 640x480 with 1 Axes>"
      ]
     },
     "metadata": {},
     "output_type": "display_data"
    }
   ],
   "source": [
    "# Example: visualize layer 1 output\n",
    "with torch.no_grad():\n",
    "    z1 = model[0](x_range)           # Linear(1, 4)\n",
    "    a1 = model[1](z1)                # ReLU\n",
    "    z2 = model[2](a1)                # Linear(4, 4)\n",
    "    a2 = model[3](z2)                # ReLU\n",
    "\n",
    "plt.plot(x_range_np, a1[:, 0], label=\"Hidden Unit 1\")\n",
    "plt.plot(x_range_np, a1[:, 1], label=\"Hidden Unit 2\")\n",
    "plt.plot(x_range_np, a1[:, 2], label=\"Hidden Unit 3\")\n",
    "plt.plot(x_range_np, a1[:, 3], label=\"Hidden Unit 4\")\n",
    "plt.title(\"Hidden Layer 1 Activations\")\n",
    "plt.legend()\n",
    "plt.grid(True)\n",
    "plt.show()\n"
   ]
  },
  {
   "cell_type": "code",
   "execution_count": null,
   "id": "be436dbd-34a7-4a6c-b3bf-97ba70b09eac",
   "metadata": {},
   "outputs": [],
   "source": []
  }
 ],
 "metadata": {
  "kernelspec": {
   "display_name": "Python 3 (ipykernel)",
   "language": "python",
   "name": "python3"
  },
  "language_info": {
   "codemirror_mode": {
    "name": "ipython",
    "version": 3
   },
   "file_extension": ".py",
   "mimetype": "text/x-python",
   "name": "python",
   "nbconvert_exporter": "python",
   "pygments_lexer": "ipython3",
   "version": "3.12.9"
  }
 },
 "nbformat": 4,
 "nbformat_minor": 5
}
